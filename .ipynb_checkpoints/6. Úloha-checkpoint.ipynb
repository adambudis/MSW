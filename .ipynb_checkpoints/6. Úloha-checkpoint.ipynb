{
 "cells": [
  {
   "cell_type": "markdown",
   "id": "5944a616",
   "metadata": {},
   "source": [
    "# 6. Generování náhodných čísel a testování generátorů"
   ]
  },
  {
   "cell_type": "code",
   "execution_count": 8,
   "id": "e78aa8cb",
   "metadata": {},
   "outputs": [],
   "source": [
    "# import knihoven\n",
    "import time\n",
    "from pynput.mouse import Listener\n",
    "import hashlib\n",
    "import random\n",
    "\n",
    "# Doba po kterou probíhá snímání pohybu myše\n",
    "DOBA_SNIMANI = 5\n",
    "\n",
    "# Funkce která se zavolá při každém pohybu myší a uloží pozici myši \n",
    "def on_move(x, y):\n",
    "    pozice_myse.append((x, y))\n",
    "\n",
    "def generator():\n",
    "    pozice_myse = []\n",
    "    \n",
    "    start = time.time()\n",
    "    with Listener(on_move=on_move) as listener:\n",
    "        while time.time() - start < DOBA_SNIMANI:\n",
    "            pass\n",
    "            #print(\"Probíhá snímání myše.\")\n",
    "            \n",
    "    return hashlib.sha256(str(pozice_myse).encode()).digest()"
   ]
  },
  {
   "cell_type": "code",
   "execution_count": 9,
   "id": "69a56ce5",
   "metadata": {},
   "outputs": [
    {
     "name": "stdout",
     "output_type": "stream",
     "text": [
      "Vygenerované semínko z pohybu myší: b\"\\xea3\\xef\\xb5\\xd1\\xf1\\x97e>\\xfa\\x97\\x7fk\\x16\\xf3\\x9a\\xc4\\t\\xaf\\xd8\\x17\\xd1'\\x9b\\xff\\t\\x01Key\\xe5}\"\n",
      "40\n",
      "29\n"
     ]
    }
   ],
   "source": [
    "# Vygenerování semínka z pozic myše a výpis\n",
    "seminko = generator()\n",
    "print(f\"Vygenerované semínko z pohybu myší: {seminko}\")\n",
    "\n",
    "# Generování náhodných čísel ze semínka \n",
    "random.seed(seminko)\n",
    "print(random.randint(0, 100))\n",
    "print(random.randint(0, 100))"
   ]
  },
  {
   "cell_type": "code",
   "execution_count": null,
   "id": "ed825b2f",
   "metadata": {},
   "outputs": [],
   "source": []
  }
 ],
 "metadata": {
  "kernelspec": {
   "display_name": "Python 3 (ipykernel)",
   "language": "python",
   "name": "python3"
  },
  "language_info": {
   "codemirror_mode": {
    "name": "ipython",
    "version": 3
   },
   "file_extension": ".py",
   "mimetype": "text/x-python",
   "name": "python",
   "nbconvert_exporter": "python",
   "pygments_lexer": "ipython3",
   "version": "3.11.2"
  }
 },
 "nbformat": 4,
 "nbformat_minor": 5
}
