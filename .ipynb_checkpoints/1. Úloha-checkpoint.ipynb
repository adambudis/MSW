{
 "cells": [
  {
   "cell_type": "markdown",
   "id": "b952328e",
   "metadata": {},
   "source": [
    "# 1. Knihovny a moduly pro matematické výpočty"
   ]
  },
  {
   "cell_type": "code",
   "execution_count": 149,
   "id": "221f8aac",
   "metadata": {},
   "outputs": [],
   "source": [
    "# import potřebných knihoven\n",
    "import time\n",
    "import numpy as np\n",
    "import scipy\n",
    "import random"
   ]
  },
  {
   "cell_type": "markdown",
   "id": "667e40d2",
   "metadata": {},
   "source": [
    "## 1) Určitý integrál"
   ]
  },
  {
   "cell_type": "code",
   "execution_count": 218,
   "id": "c1f63bd6",
   "metadata": {},
   "outputs": [],
   "source": [
    "# definice polynomické rovnice \n",
    "def f(x): \n",
    "    return -10*x**5 + 7*x**3 + 5*x**2 - 8*x\n",
    "\n",
    "# vytvoření integračních mezí a kroku\n",
    "a = 100\n",
    "b = 300\n",
    "dx = 0.0001"
   ]
  },
  {
   "cell_type": "markdown",
   "id": "d46cd03a",
   "metadata": {},
   "source": [
    "### Výpočet integrálu klasickým pythonem "
   ]
  },
  {
   "cell_type": "code",
   "execution_count": 219,
   "id": "0e1e8c09",
   "metadata": {},
   "outputs": [],
   "source": [
    "def vypocet_klasickym_pythonem(a, b, dx): \n",
    "    start = time.perf_counter()\n",
    "    integral = 0\n",
    "    x = a\n",
    "    while x < b:\n",
    "        integral += dx * (f(x) + f(x+dx))/2\n",
    "        x += dx\n",
    "        \n",
    "    end = time.perf_counter()\n",
    "    return end - start"
   ]
  },
  {
   "cell_type": "markdown",
   "id": "8c14b752",
   "metadata": {},
   "source": [
    "### Výpočet integrálu pomocí knihovny Numpy "
   ]
  },
  {
   "cell_type": "code",
   "execution_count": 220,
   "id": "2668a58d",
   "metadata": {},
   "outputs": [],
   "source": [
    "def vypocet_pomoci_numpy(a, b, dx):\n",
    "    start = time.perf_counter()\n",
    "    x = np.arange(a, b+dx, dx)\n",
    "    numpy.trapz(f(x), x, dx)\n",
    "    \n",
    "    end = time.perf_counter()\n",
    "    return end - start"
   ]
  },
  {
   "cell_type": "markdown",
   "id": "151292f5",
   "metadata": {},
   "source": [
    "### Výpočet integrálu pomocí knihovny Scipy"
   ]
  },
  {
   "cell_type": "code",
   "execution_count": 221,
   "id": "500b467d",
   "metadata": {},
   "outputs": [],
   "source": [
    "def vypocet_pomoci_scipy(a, b, dx):\n",
    "    start = time.perf_counter()\n",
    "    x = np.arange(a, b+dx, dx)\n",
    "    scipy.integrate.trapezoid(f(x), x)\n",
    "    \n",
    "    end = time.perf_counter()\n",
    "    return end - start"
   ]
  },
  {
   "cell_type": "markdown",
   "id": "6b281bde",
   "metadata": {},
   "source": [
    "### Výpis výpočtu integrálů"
   ]
  },
  {
   "cell_type": "code",
   "execution_count": 222,
   "id": "484cb9a2",
   "metadata": {},
   "outputs": [
    {
     "name": "stdout",
     "output_type": "stream",
     "text": [
      "Výpočet klasickým pythonem: 3.05518910s\n",
      "Výpočet pomocí knihovny Scipy: 0.22618360s\n",
      "Výpočet pomocí knihovny Numpy: 0.23024320s\n"
     ]
    }
   ],
   "source": [
    "print(\"Výpočet klasickým pythonem: {:.8f}s\".format(vypocet_klasickym_pythonem(a, b, dx)))\n",
    "print(\"Výpočet pomocí knihovny Scipy: {:.8f}s\".format(vypocet_pomoci_scipy(a, b, dx)))\n",
    "print(\"Výpočet pomocí knihovny Numpy: {:.8f}s\".format(vypocet_pomoci_numpy(a, b, dx))) "
   ]
  },
  {
   "cell_type": "markdown",
   "id": "a7471db3",
   "metadata": {},
   "source": [
    "## 2) Skalární součin"
   ]
  },
  {
   "cell_type": "code",
   "execution_count": 198,
   "id": "1e0481aa",
   "metadata": {},
   "outputs": [],
   "source": [
    "# Vytvoření 2 vektorů \n",
    "vektor_a = [0, 1, 0, 2, 6]\n",
    "vektor_b = [3, 9, 9, 1, 4]"
   ]
  },
  {
   "cell_type": "markdown",
   "id": "52c02398",
   "metadata": {},
   "source": [
    "### Výpočet skalárního součinu klasickým pythonem"
   ]
  },
  {
   "cell_type": "code",
   "execution_count": 199,
   "id": "0a82ffd8",
   "metadata": {},
   "outputs": [],
   "source": [
    "def skalarni_soucin_klasickym_pythonem(a, b):\n",
    "    start = time.perf_counter()\n",
    "    skalarni_soucin = 0\n",
    "    for i in range(len(a)):\n",
    "        skalarni_soucin += a[i] * b[i]\n",
    "        \n",
    "    end = time.perf_counter()\n",
    "    print(skalarni_soucin)\n",
    "    return end - start"
   ]
  },
  {
   "cell_type": "markdown",
   "id": "80925b04",
   "metadata": {},
   "source": [
    "### Výpočet skalárního součinu pomocí knihovny Numpy"
   ]
  },
  {
   "cell_type": "code",
   "execution_count": 202,
   "id": "0549b204",
   "metadata": {},
   "outputs": [],
   "source": [
    "def skalarni_soucin_pomoci_numpy(a, b):\n",
    "    # Přetypování vektorů z objektu třídy list na objekt třídy numpy.ndarray\n",
    "    a = np.array(a)\n",
    "    b = np.array(b)\n",
    "    \n",
    "    start = time.perf_counter()\n",
    "    skalarni_soucin = numpy.dot(a, b)\n",
    "    \n",
    "    end = time.perf_counter()\n",
    "    print(skalarni_soucin)\n",
    "    return end - start"
   ]
  },
  {
   "cell_type": "markdown",
   "id": "58284e11",
   "metadata": {},
   "source": [
    "### Výpis skalárního součinu"
   ]
  },
  {
   "cell_type": "code",
   "execution_count": 204,
   "id": "9a23a6c9",
   "metadata": {},
   "outputs": [
    {
     "name": "stdout",
     "output_type": "stream",
     "text": [
      "35\n",
      "Výpočet klasickým pythonem trval: 0.00000870s\n",
      "35\n",
      "Výpočet pomocí knihovny Numpy trval: 0.00002730s\n"
     ]
    }
   ],
   "source": [
    "print(\"Výpočet klasickým pythonem trval: {:.8f}s\".format(skalarni_soucin_klasickym_pythonem(vektor_a, vektor_b)))\n",
    "print(\"Výpočet pomocí knihovny Numpy trval: {:.8f}s\".format(skalarni_soucin_pomoci_numpy(vektor_a, vektor_b)))"
   ]
  },
  {
   "cell_type": "markdown",
   "id": "66972ff1",
   "metadata": {},
   "source": [
    "## 3) Násobení matic"
   ]
  },
  {
   "cell_type": "code",
   "execution_count": 165,
   "id": "005e5a85",
   "metadata": {},
   "outputs": [],
   "source": [
    "# Vytvoření matice A a B\n",
    "matice_A = [[5, 5, 5], [2, 1, 4], [1, 4, 1]]\n",
    "matice_B = [[2, 5, 1], [7, 2, 5], [6, 7, 7]]"
   ]
  },
  {
   "cell_type": "markdown",
   "id": "2b02addd",
   "metadata": {},
   "source": [
    "### Násobení matic klasickým pythonem"
   ]
  },
  {
   "cell_type": "code",
   "execution_count": 183,
   "id": "dba6cb25",
   "metadata": {},
   "outputs": [],
   "source": [
    "def nasobeni_matic_klasickym_pythonem(A, B):\n",
    "    start = time.perf_counter()\n",
    "    \n",
    "    # Rozměry matic \n",
    "    matice_A_radky = len(A)\n",
    "    matice_A_sloupce = len(A[0])\n",
    "    matice_B_radky = len(B)\n",
    "    matice_B_sloupce = len(B[0])\n",
    "\n",
    "    # Inicializace výsledné matice c\n",
    "    matice_C = [[0 for _ in range(matice_B_sloupce)] for _ in range(matice_A_radky)]\n",
    "\n",
    "    # Násobení matic\n",
    "    for i in range(matice_A_radky):\n",
    "        for j in range(matice_B_sloupce):\n",
    "            for k in range(matice_A_sloupce):\n",
    "                matice_C[i][j] += A[i][k] * B[k][j]\n",
    "                \n",
    "    end = time.perf_counter()\n",
    "    print(f\"Výsledek v pythonu: {matice_C}\")\n",
    "    return end - start"
   ]
  },
  {
   "cell_type": "markdown",
   "id": "83aab3fe",
   "metadata": {},
   "source": [
    "### Násobení matic pomocí knihovny Numpy"
   ]
  },
  {
   "cell_type": "code",
   "execution_count": 186,
   "id": "429d7a5d",
   "metadata": {},
   "outputs": [],
   "source": [
    "def nasobeni_matic_pomoci_numpy(A, B):\n",
    "    # Přetypování matice z objektu třídy list na objekt třídy numpy.ndarray\n",
    "    A = np.array(A)\n",
    "    B = np.array(B)\n",
    "    \n",
    "    start = time.perf_counter()\n",
    "    matice_C = np.matmul(A, B)\n",
    "    end = time.perf_counter()\n",
    "    print(f\"Výsledek v numpy: {matice_C}\")\n",
    "    return end - start"
   ]
  },
  {
   "cell_type": "markdown",
   "id": "4d89ff14",
   "metadata": {},
   "source": [
    "### Výpis násobení matic"
   ]
  },
  {
   "cell_type": "code",
   "execution_count": 189,
   "id": "203e785f",
   "metadata": {},
   "outputs": [
    {
     "name": "stdout",
     "output_type": "stream",
     "text": [
      "Výsledek v pythonu: [[75, 70, 65], [35, 40, 35], [36, 20, 28]]\n",
      "Výpočet klasickým pythonem trval: 0.00002580s\n",
      "Výsledek v numpy: [[75 70 65]\n",
      " [35 40 35]\n",
      " [36 20 28]]\n",
      "Výpočet pomocí knihovny Numpy trval: 0.00001690s\n"
     ]
    }
   ],
   "source": [
    "print(\"Výpočet klasickým pythonem trval: {:.8f}s\".format(nasobeni_matic_klasickym_pythonem(matice_A, matice_B)))\n",
    "print(\"Výpočet pomocí knihovny Numpy trval: {:.8f}s\".format(nasobeni_matic_pomoci_numpy(matice_A, matice_B)))"
   ]
  },
  {
   "cell_type": "markdown",
   "id": "669905a5",
   "metadata": {},
   "source": [
    "## 4) Součet matic"
   ]
  },
  {
   "cell_type": "code",
   "execution_count": 163,
   "id": "c458109f",
   "metadata": {},
   "outputs": [],
   "source": [
    "# Vytvoření matice A a B\n",
    "matice_A = [[3, 3, 8], [4, 1, 5], [6, 2, 6]]\n",
    "matice_B = [[5, 2, 7], [4, 8, 8], [5, 1, 4]]"
   ]
  },
  {
   "cell_type": "markdown",
   "id": "a43be9d5",
   "metadata": {},
   "source": [
    "### Součet matic klasickým pythonem"
   ]
  },
  {
   "cell_type": "code",
   "execution_count": 158,
   "id": "fbe49ca7",
   "metadata": {},
   "outputs": [],
   "source": [
    "def soucet_matic_klasickym_pythonem(A, B):\n",
    "    start = time.perf_counter()\n",
    "\n",
    "    matice_A_radky = len(A)\n",
    "    matice_A_sloupce = len(A[0])\n",
    "\n",
    "    # Inicializace výsledné matice C\n",
    "    matice_C = [[0 for _ in range(matice_A_sloupce)] for _ in range(matice_A_radky)]\n",
    "\n",
    "    # Součet matic \n",
    "    for i in range(matice_A_radky):\n",
    "        for j in range(matice_A_sloupce):\n",
    "            matice_C[i][j] = A[i][j] + B[i][j]\n",
    "            \n",
    "    end = time.perf_counter()\n",
    "    print(f\"Výsledek v pythonu: {matice_C}\")\n",
    "    return end - start"
   ]
  },
  {
   "cell_type": "markdown",
   "id": "a7b30625",
   "metadata": {},
   "source": [
    "### Součet matic pomocí knihovny numpy"
   ]
  },
  {
   "cell_type": "code",
   "execution_count": 161,
   "id": "72a25f17",
   "metadata": {},
   "outputs": [],
   "source": [
    "def soucet_matic_pomoci_numpy(A, B):\n",
    "    # Přetypování matic z objektu třídy list na objekt třídy numpy.ndarray\n",
    "    A = np.array(A)\n",
    "    B = np.array(B)\n",
    "\n",
    "    start = time.perf_counter()\n",
    "    matice_C = np.add(A, B)\n",
    "    end = time.perf_counter()\n",
    "    print(f\"Výsledek v numpy: {matice_C}\")\n",
    "    return end - start"
   ]
  },
  {
   "cell_type": "markdown",
   "id": "c6bc53f9",
   "metadata": {},
   "source": [
    "### Výpis součtu matic"
   ]
  },
  {
   "cell_type": "code",
   "execution_count": 162,
   "id": "6851b64c",
   "metadata": {},
   "outputs": [
    {
     "name": "stdout",
     "output_type": "stream",
     "text": [
      "Výsledek v pythonu: [[8, 5, 15], [8, 9, 13], [11, 3, 10]]\n",
      "Výpočet klasickým pythonem trval: 0.00001670s\n",
      "Výsledek v numpy: [[ 8  5 15]\n",
      " [ 8  9 13]\n",
      " [11  3 10]]\n",
      "Výpočet pomocí knihovny Numpy trval: 0.00001580s\n"
     ]
    }
   ],
   "source": [
    "print(\"Výpočet klasickým pythonem trval: {:.8f}s\".format(soucet_matic_klasickym_pythonem(matice_A, matice_B)))\n",
    "print(\"Výpočet pomocí knihovny Numpy trval: {:.8f}s\".format(soucet_matic_pomoci_numpy(matice_A, matice_B)))"
   ]
  },
  {
   "cell_type": "markdown",
   "id": "9cc88af5",
   "metadata": {},
   "source": [
    "## 5) Násobení matice číslem"
   ]
  },
  {
   "cell_type": "code",
   "execution_count": 213,
   "id": "18fc2420",
   "metadata": {},
   "outputs": [],
   "source": [
    "# Vytvoření matice A a čísla kterým se matice vynásobí \n",
    "matice_A = [[2, 8, 4], [2, 8, 4], [2, 3, 4]]\n",
    "cislo = 5;"
   ]
  },
  {
   "cell_type": "markdown",
   "id": "cea76771",
   "metadata": {},
   "source": [
    "### Násobení matice číslem klasickým pythonem"
   ]
  },
  {
   "cell_type": "code",
   "execution_count": 214,
   "id": "e32612fe",
   "metadata": {},
   "outputs": [],
   "source": [
    "def nasobeni_matice_cislem_pythonem(A, c): \n",
    "    start = time.perf_counter()\n",
    "    \n",
    "    matice_A_radky = len(A)\n",
    "    matice_A_sloupce = len(A[0])\n",
    "\n",
    "    # Inicializace výsledné matice C\n",
    "    matice_C = [[0 for _ in range(matice_A_sloupce)] for _ in range(matice_A_radky)]\n",
    "        \n",
    "    # Násobení matice číslem\n",
    "    for i in range(matice_A_radky):\n",
    "        for j in range(matice_A_sloupce):\n",
    "            matice_C[i][j] = A[i][j] * c\n",
    "            \n",
    "    end = time.perf_counter()\n",
    "    print(f\"Výsledek v pythonu: {matice_C}\")\n",
    "    return end - start"
   ]
  },
  {
   "cell_type": "markdown",
   "id": "5f5686e0",
   "metadata": {},
   "source": [
    "### Násobení matice číslem pomocí knihovny numpy"
   ]
  },
  {
   "cell_type": "code",
   "execution_count": 215,
   "id": "571850d3",
   "metadata": {},
   "outputs": [],
   "source": [
    "def nasobeni_matice_cislem_pomoci_numpy(A, c): \n",
    "    # Přetypování matice z objektu třídy list na objekt třídy numpy.ndarray\n",
    "    A = np.array(A)\n",
    "    \n",
    "    start = time.perf_counter()\n",
    "    matice_C = A * c; \n",
    "    end = time.perf_counter()\n",
    "    print(f\"Výsledek v numpy: {matice_C}\")\n",
    "    return end - start"
   ]
  },
  {
   "cell_type": "markdown",
   "id": "519410d4",
   "metadata": {},
   "source": [
    "### Výpis násobení matice číslem"
   ]
  },
  {
   "cell_type": "code",
   "execution_count": 216,
   "id": "a9b00a41",
   "metadata": {},
   "outputs": [
    {
     "name": "stdout",
     "output_type": "stream",
     "text": [
      "Výsledek v pythonu: [[10, 40, 20], [10, 40, 20], [10, 15, 20]]\n",
      "Výpočet klasickým pythonem trval: 0.00001040s\n",
      "Výsledek v numpy: [[10 40 20]\n",
      " [10 40 20]\n",
      " [10 15 20]]\n",
      "Výpočet pomocí knihovny Numpy trval: 0.00001510s\n"
     ]
    }
   ],
   "source": [
    "print(\"Výpočet klasickým pythonem trval: {:.8f}s\".format(nasobeni_matice_cislem_pythonem(matice_A, cislo)))\n",
    "print(\"Výpočet pomocí knihovny Numpy trval: {:.8f}s\".format(nasobeni_matice_cislem_pomoci_numpy(matice_A, cislo)))"
   ]
  },
  {
   "cell_type": "code",
   "execution_count": null,
   "id": "93fee2d0",
   "metadata": {},
   "outputs": [],
   "source": []
  }
 ],
 "metadata": {
  "kernelspec": {
   "display_name": "Python 3 (ipykernel)",
   "language": "python",
   "name": "python3"
  },
  "language_info": {
   "codemirror_mode": {
    "name": "ipython",
    "version": 3
   },
   "file_extension": ".py",
   "mimetype": "text/x-python",
   "name": "python",
   "nbconvert_exporter": "python",
   "pygments_lexer": "ipython3",
   "version": "3.11.2"
  }
 },
 "nbformat": 4,
 "nbformat_minor": 5
}
