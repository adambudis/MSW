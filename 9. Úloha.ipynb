{
 "cells": [
  {
   "cell_type": "markdown",
   "id": "dd31e80a",
   "metadata": {},
   "source": [
    "# 9. Integrace funkce jedné proměnné"
   ]
  },
  {
   "cell_type": "code",
   "execution_count": 1,
   "id": "92b74327",
   "metadata": {},
   "outputs": [],
   "source": [
    "# import knihoven\n",
    "import scipy\n",
    "import numpy as np"
   ]
  },
  {
   "cell_type": "code",
   "execution_count": 2,
   "id": "e57ae4f2",
   "metadata": {},
   "outputs": [],
   "source": [
    "# vytvoření integračních mezí a kroku \n",
    "a = 0\n",
    "b = 3\n",
    "dx = 0.1\n",
    "\n",
    "x = np.arange(a, b+dx, dx)\n",
    "\n",
    "# integrace pomocí funkce trapezoid\n",
    "def integrate_trapezoid(y, x):\n",
    "    return scipy.integrate.trapezoid(y, x) \n",
    "\n",
    "# integrace pomocí funkce simpson\n",
    "def integrate_simpson(y, x):\n",
    "    return scipy.integrate.simpson(y, x)\n",
    "\n",
    "# integrace pomocí funkce romberg\n",
    "def integrate_romberg(f, a, b):\n",
    "    return scipy.integrate.romberg(f, a, b)\n",
    "\n",
    "# funkce na vypis integraci\n",
    "def vypis_vysledky_integraci(trapezoid, simpson, romberg):\n",
    "    print(f\"Výsledek integrálu pomocí funkce trapezoid: {trapezoid}\")\n",
    "    print(f\"Výsledek integrálu pomocí funkce simpson: {simpson}\")\n",
    "    print(f\"Výsledek integrálu pomocí funkce romberg: {romberg}\")"
   ]
  },
  {
   "cell_type": "markdown",
   "id": "d68ab00b",
   "metadata": {},
   "source": [
    "## Polynomická funkce"
   ]
  },
  {
   "cell_type": "code",
   "execution_count": 3,
   "id": "3510d089",
   "metadata": {},
   "outputs": [
    {
     "name": "stdout",
     "output_type": "stream",
     "text": [
      "Výsledek integrálu pomocí funkce trapezoid: 5.985\n",
      "Výsledek integrálu pomocí funkce simpson: 6.0000000000000036\n",
      "Výsledek integrálu pomocí funkce romberg: 6.0\n"
     ]
    }
   ],
   "source": [
    "# Analytické řešení polynomické funkce\n",
    "# I(-3x2 + 4x + 5)(a, b) = [-x3 + 2x2 + 5x](0,3) = -27 + 18 + 15 = 6\n",
    "\n",
    "# definice polynomické funkce\n",
    "def f(x):\n",
    "    return -3*x**2 + 4*x + 5\n",
    "\n",
    "# výpis výsledků\n",
    "vypis_vysledky_integraci(integrate_trapezoid(f(x), x), integrate_simpson(f(x), x), integrate_romberg(f, a, b))"
   ]
  },
  {
   "cell_type": "markdown",
   "id": "7a50e4b2",
   "metadata": {},
   "source": [
    "## Harmonická funkce"
   ]
  },
  {
   "cell_type": "code",
   "execution_count": 4,
   "id": "d272f8bd",
   "metadata": {},
   "outputs": [
    {
     "name": "stdout",
     "output_type": "stream",
     "text": [
      "Výsledek integrálu pomocí funkce trapezoid: 3.9766677861325515\n",
      "Výsledek integrálu pomocí funkce simpson: 3.979987206938697\n",
      "Výsledek integrálu pomocí funkce romberg: 3.9799849932023488\n"
     ]
    }
   ],
   "source": [
    "# Analytické řešení harmonické funkce\n",
    "# I(2sinx)(a, b) = [-2cosx](0, 3) = 2 - 2cos(3) = 3.97\n",
    "\n",
    "# definice harmonické funkce\n",
    "def f(x):\n",
    "    return 2*np.sin(x)\n",
    "\n",
    "# výpis výsledků\n",
    "vypis_vysledky_integraci(integrate_trapezoid(f(x), x), integrate_simpson(f(x), x), integrate_romberg(f, a, b))"
   ]
  },
  {
   "cell_type": "markdown",
   "id": "058d9de5",
   "metadata": {},
   "source": [
    "## Exponenciální funkce"
   ]
  },
  {
   "cell_type": "code",
   "execution_count": 5,
   "id": "2686c528",
   "metadata": {},
   "outputs": [
    {
     "name": "stdout",
     "output_type": "stream",
     "text": [
      "Výsledek integrálu pomocí funkce trapezoid: 10.102908321039077\n",
      "Výsledek integrálu pomocí funkce simpson: 10.098866580578232\n",
      "Výsledek integrálu pomocí funkce romberg: 10.098865286222773\n"
     ]
    }
   ],
   "source": [
    "# Analytické řešení exponenciální funkce\n",
    "# I(2^x)(a, b) = [2^x / log(2)](0, 3) =  10.099\n",
    "\n",
    "# definice exponenciální funkce\n",
    "def f(x):\n",
    "    return 2**x\n",
    "\n",
    "# výpis výsledků\n",
    "vypis_vysledky_integraci(integrate_trapezoid(f(x), x), integrate_simpson(f(x), x), integrate_romberg(f, a, b))"
   ]
  },
  {
   "cell_type": "code",
   "execution_count": null,
   "id": "39a73fa2",
   "metadata": {},
   "outputs": [],
   "source": []
  }
 ],
 "metadata": {
  "kernelspec": {
   "display_name": "Python 3 (ipykernel)",
   "language": "python",
   "name": "python3"
  },
  "language_info": {
   "codemirror_mode": {
    "name": "ipython",
    "version": 3
   },
   "file_extension": ".py",
   "mimetype": "text/x-python",
   "name": "python",
   "nbconvert_exporter": "python",
   "pygments_lexer": "ipython3",
   "version": "3.11.2"
  }
 },
 "nbformat": 4,
 "nbformat_minor": 5
}
